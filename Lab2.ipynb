{
  "nbformat": 4,
  "nbformat_minor": 0,
  "metadata": {
    "colab": {
      "provenance": [],
      "authorship_tag": "ABX9TyP6rAdZ0y43Y6ZpSXcZaVEA",
      "include_colab_link": true
    },
    "kernelspec": {
      "name": "python3",
      "display_name": "Python 3"
    },
    "language_info": {
      "name": "python"
    }
  },
  "cells": [
    {
      "cell_type": "markdown",
      "metadata": {
        "id": "view-in-github",
        "colab_type": "text"
      },
      "source": [
        "<a href=\"https://colab.research.google.com/github/jays-github2022/BSIS2-DV-LAB2-JAYSONB/blob/main/Lab2.ipynb\" target=\"_parent\"><img src=\"https://colab.research.google.com/assets/colab-badge.svg\" alt=\"Open In Colab\"/></a>"
      ]
    },
    {
      "cell_type": "code",
      "execution_count": 1,
      "metadata": {
        "colab": {
          "base_uri": "https://localhost:8080/"
        },
        "id": "M0Dg7xRSs2DU",
        "outputId": "fafc68ab-6529-4847-9876-879c39155707"
      },
      "outputs": [
        {
          "output_type": "stream",
          "name": "stdout",
          "text": [
            "Enter the first number:\n",
            "5\n",
            "Enter the second number:\n",
            "27.5\n",
            "\n",
            "Sum: 32.5\n",
            "Difference: -22.5\n",
            "Product: 137.5\n",
            "Quotient: 0.18181818181818182\n",
            "Power: 1.666000468656264e+19\n",
            "Division with Remainder: 0.0\n",
            "Remainder: 5.0\n"
          ]
        }
      ],
      "source": [
        "\n",
        "#BSIS2-DV-LAB2-JAYSONB\n",
        "\n",
        "print(\"Enter the first number:\")\n",
        "fnum = input()\n",
        "print(\"Enter the second number:\")\n",
        "snum = input()\n",
        "print()\n",
        "\n",
        "fnum = float(fnum)\n",
        "snum = float(snum)\n",
        "\n",
        "sum = fnum+snum\n",
        "diff = fnum-snum\n",
        "prod = fnum*snum\n",
        "quot = fnum/snum\n",
        "pow = fnum**snum\n",
        "dwr = fnum//snum\n",
        "r = fnum%snum\n",
        "\n",
        "print(f\"Sum: {sum}\")\n",
        "print(f\"Difference: {diff}\")\n",
        "print(f\"Product: {prod}\" )\n",
        "print(f\"Quotient: {quot}\")\n",
        "print(f\"Power: {pow}\")\n",
        "print(f\"Division with Remainder: {dwr}\")\n",
        "print(f\"Remainder: {r}\")\n",
        "\n",
        "#BSIS2-DV-LAB2-JAYSONB"
      ]
    }
  ]
}